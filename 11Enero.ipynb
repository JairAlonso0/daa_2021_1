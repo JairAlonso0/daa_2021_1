{
  "nbformat": 4,
  "nbformat_minor": 0,
  "metadata": {
    "colab": {
      "name": "11Enero.ipynb",
      "provenance": [],
      "collapsed_sections": [],
      "authorship_tag": "ABX9TyNt0fBuKWJM9Y0tfLAeD+pK",
      "include_colab_link": true
    },
    "kernelspec": {
      "name": "python3",
      "display_name": "Python 3"
    }
  },
  "cells": [
    {
      "cell_type": "markdown",
      "metadata": {
        "id": "view-in-github",
        "colab_type": "text"
      },
      "source": [
        "<a href=\"https://colab.research.google.com/github/JairAlonso0/daa_2021_1/blob/master/11Enero.ipynb\" target=\"_parent\"><img src=\"https://colab.research.google.com/assets/colab-badge.svg\" alt=\"Open In Colab\"/></a>"
      ]
    },
    {
      "cell_type": "code",
      "metadata": {
        "id": "92wH7FKN5o-O"
      },
      "source": [
        "class NodoArbol:\r\n",
        "    def _init_(self, value, left = None, right = None):\r\n",
        "        self.data = value\r\n",
        "        self.left = left\r\n",
        "        self.rigth = rigth"
      ],
      "execution_count": 22,
      "outputs": []
    },
    {
      "cell_type": "code",
      "metadata": {
        "id": "NwIAB8KJ8ji8"
      },
      "source": [
        "arbol = NodoArbol(\"R\", NodoArbol(\"C\"), NodoArbol(\"H\") )"
      ],
      "execution_count": null,
      "outputs": []
    },
    {
      "cell_type": "code",
      "metadata": {
        "id": "YvLrq1y497go"
      },
      "source": [
        "nodo1 = NodoArbol(\"C\")\r\n",
        "nodo2 = NodoArbol(\"H\")\r\n",
        "arbol_v2 = NodoArbol(\"R\", nodo1, nodo2)"
      ],
      "execution_count": null,
      "outputs": []
    },
    {
      "cell_type": "code",
      "metadata": {
        "id": "cJB4pyg8-YH_"
      },
      "source": [
        "print(arbol.rigth.data)\r\n",
        "print(arbol_v2.right.data)"
      ],
      "execution_count": null,
      "outputs": []
    },
    {
      "cell_type": "code",
      "metadata": {
        "id": "oQGN_Erj_Lbp"
      },
      "source": [
        "arbol2 = NodoArbol(4, NodoArbol(3,NodoArbol(2,NodoArbol(2))), NodoArbol(5)\r\n",
        "print(arbol2.left.left.left.data)\r\n",
        "aux = arbol2\r\n",
        "while aux.left != None:\r\n",
        "    aux = aux.left\r\n",
        "\r\n",
        "print(aux.data)"
      ],
      "execution_count": null,
      "outputs": []
    },
    {
      "cell_type": "code",
      "metadata": {
        "id": "s3rrJCYXCC7l"
      },
      "source": [
        "arbol = NodoArbol(\"Santi\", None,NodoArbol(\"Jesus\",NodoArbol(\"Pedro\",None,NodoArbol(\"Diana\")),None))\r\n",
        "print(arbol3.rigth)"
      ],
      "execution_count": null,
      "outputs": []
    }
  ]
}