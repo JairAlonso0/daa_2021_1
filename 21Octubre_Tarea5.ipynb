{
  "nbformat": 4,
  "nbformat_minor": 0,
  "metadata": {
    "colab": {
      "name": "21Octubre_Tarea5.ipynb",
      "provenance": [],
      "collapsed_sections": [],
      "authorship_tag": "ABX9TyOCZ2wKqZLnbcQ/dL4ZomyS",
      "include_colab_link": true
    },
    "kernelspec": {
      "name": "python3",
      "display_name": "Python 3"
    }
  },
  "cells": [
    {
      "cell_type": "markdown",
      "metadata": {
        "id": "view-in-github",
        "colab_type": "text"
      },
      "source": [
        "<a href=\"https://colab.research.google.com/github/JairAlonso0/daa_2021_1/blob/master/21Octubre_Tarea5.ipynb\" target=\"_parent\"><img src=\"https://colab.research.google.com/assets/colab-badge.svg\" alt=\"Open In Colab\"/></a>"
      ]
    },
    {
      "cell_type": "code",
      "metadata": {
        "id": "6x8TLVLqe6Q4",
        "outputId": "2482fd4e-bd90-47da-a694-7085a5579852",
        "colab": {
          "base_uri": "https://localhost:8080/",
          "height": 357
        }
      },
      "source": [
        "from time import time\n",
        "\n",
        "def ejemplo1( n ):\n",
        "    start_time = time()\n",
        "    c = n + 1\n",
        "    d = c * n\n",
        "    e = n * n\n",
        "    total = c + e - d\n",
        "    print(f\"total={ total }\")\n",
        "    elapsed_time = time() - start_time\n",
        "    print(\"Tiempo transcurrido: %0.10f segundos.\" % elapsed_time)\n",
        "for entrada in range(100,1100,100):\n",
        "  ejemplo1( entrada )"
      ],
      "execution_count": null,
      "outputs": [
        {
          "output_type": "stream",
          "text": [
            "total=1\n",
            "Tiempo transcurrido: 0.0031828880 segundos.\n",
            "total=1\n",
            "Tiempo transcurrido: 0.0006530285 segundos.\n",
            "total=1\n",
            "Tiempo transcurrido: 0.0001502037 segundos.\n",
            "total=1\n",
            "Tiempo transcurrido: 0.0008513927 segundos.\n",
            "total=1\n",
            "Tiempo transcurrido: 0.0001404285 segundos.\n",
            "total=1\n",
            "Tiempo transcurrido: 0.0001199245 segundos.\n",
            "total=1\n",
            "Tiempo transcurrido: 0.0001175404 segundos.\n",
            "total=1\n",
            "Tiempo transcurrido: 0.0001921654 segundos.\n",
            "total=1\n",
            "Tiempo transcurrido: 0.0001454353 segundos.\n",
            "total=1\n",
            "Tiempo transcurrido: 0.0002479553 segundos.\n"
          ],
          "name": "stdout"
        }
      ]
    },
    {
      "cell_type": "code",
      "metadata": {
        "id": "Pbn8phZ7ar23",
        "outputId": "77f522e7-bb08-4cfa-f556-690a0016278b",
        "colab": {
          "base_uri": "https://localhost:8080/",
          "height": 187
        }
      },
      "source": [
        "from time import time\n",
        "\n",
        "def ejemplo2( n ):\n",
        "    start_time = time()\n",
        "    contador = 0\n",
        "    for i in range( n ) :\n",
        "        for j in range( n ) :\n",
        "            contador += 1\n",
        "    elapsed_time = time() - start_time\n",
        "    print(\"Tiempo transcurrido: %0.10f segundos.\" % elapsed_time)\n",
        "    return \n",
        "for entrada in range(100,1100,100):\n",
        "  ejemplo2( entrada )"
      ],
      "execution_count": null,
      "outputs": [
        {
          "output_type": "stream",
          "text": [
            "Tiempo transcurrido: 0.0012433529 segundos.\n",
            "Tiempo transcurrido: 0.0021407604 segundos.\n",
            "Tiempo transcurrido: 0.0055353642 segundos.\n",
            "Tiempo transcurrido: 0.0080296993 segundos.\n",
            "Tiempo transcurrido: 0.0126156807 segundos.\n",
            "Tiempo transcurrido: 0.0191817284 segundos.\n",
            "Tiempo transcurrido: 0.0253238678 segundos.\n",
            "Tiempo transcurrido: 0.0391724110 segundos.\n",
            "Tiempo transcurrido: 0.0419344902 segundos.\n",
            "Tiempo transcurrido: 0.0548255444 segundos.\n"
          ],
          "name": "stdout"
        }
      ]
    },
    {
      "cell_type": "code",
      "metadata": {
        "id": "aAjLkBLhe_6-",
        "outputId": "f3fc9b3f-792f-449e-8d52-ea28593a72d6",
        "colab": {
          "base_uri": "https://localhost:8080/",
          "height": 187
        }
      },
      "source": [
        "from time import time\n",
        "\n",
        "def ejemplo3( n ): # n=4\n",
        "    start_time = time()\n",
        "    x = n * 2 # x = 8\n",
        "    y = 0   # y = 0\n",
        "    for m in range( 100 ): #3\n",
        "        y = x - n   # y = 4\n",
        "    elapsed_time = time() - start_time\n",
        "    print(\"Tiempo transcurrido: %0.10f segundos.\" % elapsed_time)\n",
        "    return y\n",
        "for entrada in range(100,1100,100):\n",
        "  ejemplo3(entrada)"
      ],
      "execution_count": null,
      "outputs": [
        {
          "output_type": "stream",
          "text": [
            "Tiempo transcurrido: 0.0000047684 segundos.\n",
            "Tiempo transcurrido: 0.0000071526 segundos.\n",
            "Tiempo transcurrido: 0.0000083447 segundos.\n",
            "Tiempo transcurrido: 0.0000088215 segundos.\n",
            "Tiempo transcurrido: 0.0000088215 segundos.\n",
            "Tiempo transcurrido: 0.0000085831 segundos.\n",
            "Tiempo transcurrido: 0.0000088215 segundos.\n",
            "Tiempo transcurrido: 0.0000083447 segundos.\n",
            "Tiempo transcurrido: 0.0000083447 segundos.\n",
            "Tiempo transcurrido: 0.0000088215 segundos.\n"
          ],
          "name": "stdout"
        }
      ]
    },
    {
      "cell_type": "code",
      "metadata": {
        "id": "Gm5b0Byzf3PL",
        "outputId": "875967e0-f1d6-43a3-bbbd-fdd4ca07bacd",
        "colab": {
          "base_uri": "https://localhost:8080/",
          "height": 187
        }
      },
      "source": [
        "from time import time\n",
        "\n",
        "def ejemplo4( n ):\n",
        "    start_time = time()\n",
        "    x = 3 * 3.1416 + n\n",
        "    y = x + 3 * 3 - n\n",
        "    z = x + y\n",
        "    elapsed_time = time() - start_time\n",
        "    print(\"Tiempo transcurrido: %0.10f segundos.\" % elapsed_time)\n",
        "    return z\n",
        "for entrada in range(100,1100,100):\n",
        "  ejemplo4(entrada)"
      ],
      "execution_count": null,
      "outputs": [
        {
          "output_type": "stream",
          "text": [
            "Tiempo transcurrido: 0.0000016689 segundos.\n",
            "Tiempo transcurrido: 0.0000009537 segundos.\n",
            "Tiempo transcurrido: 0.0000007153 segundos.\n",
            "Tiempo transcurrido: 0.0000004768 segundos.\n",
            "Tiempo transcurrido: 0.0000007153 segundos.\n",
            "Tiempo transcurrido: 0.0000004768 segundos.\n",
            "Tiempo transcurrido: 0.0000004768 segundos.\n",
            "Tiempo transcurrido: 0.0000009537 segundos.\n",
            "Tiempo transcurrido: 0.0000007153 segundos.\n",
            "Tiempo transcurrido: 0.0000004768 segundos.\n"
          ],
          "name": "stdout"
        }
      ]
    },
    {
      "cell_type": "code",
      "metadata": {
        "id": "u5XGohWwhmzJ",
        "outputId": "cffa6562-a838-4b5b-a7b5-ada0c5aa7a27",
        "colab": {
          "base_uri": "https://localhost:8080/",
          "height": 187
        }
      },
      "source": [
        "from time import time\n",
        "\n",
        "def ejemplo5( x ):\n",
        "    start_time = time()\n",
        "    n = 10\n",
        "    for j in range( 0 , x , 1 ):\n",
        "        n = j + n\n",
        "    elapsed_time = time() - start_time\n",
        "    print(\"Tiempo transcurrido: %0.10f segundos.\" % elapsed_time)\n",
        "    return n\n",
        "for entrada in range(100,1100,100):\n",
        "  ejemplo5(entrada)"
      ],
      "execution_count": null,
      "outputs": [
        {
          "output_type": "stream",
          "text": [
            "Tiempo transcurrido: 0.0000138283 segundos.\n",
            "Tiempo transcurrido: 0.0000207424 segundos.\n",
            "Tiempo transcurrido: 0.0000362396 segundos.\n",
            "Tiempo transcurrido: 0.0000364780 segundos.\n",
            "Tiempo transcurrido: 0.0000450611 segundos.\n",
            "Tiempo transcurrido: 0.0000460148 segundos.\n",
            "Tiempo transcurrido: 0.0000581741 segundos.\n",
            "Tiempo transcurrido: 0.0000584126 segundos.\n",
            "Tiempo transcurrido: 0.0000705719 segundos.\n",
            "Tiempo transcurrido: 0.0000994205 segundos.\n"
          ],
          "name": "stdout"
        }
      ]
    },
    {
      "cell_type": "code",
      "metadata": {
        "id": "L7jeYwnbiVOS",
        "outputId": "db018dda-d22c-4898-fbef-b4b3ea076049",
        "colab": {
          "base_uri": "https://localhost:8080/",
          "height": 187
        }
      },
      "source": [
        "from time import time\n",
        "\n",
        "def ejemplo6( n ):\n",
        "    start_time = time()\n",
        "    data=[[[1 for x in range(n)] for x in range(n)] \n",
        "          for x in range(n)]\n",
        "    suma = 0\n",
        "    for d in range(n):\n",
        "        for r in range(n):\n",
        "            for c in range(n):\n",
        "                suma += data[d][r][c]\n",
        "    elapsed_time = time() - start_time\n",
        "    print(\"Tiempo transcurrido: %0.10f segundos.\" % elapsed_time)\n",
        "    return suma\n",
        "for entrada in range(100,1100,100):\n",
        "  ejemplo6( entrada )"
      ],
      "execution_count": null,
      "outputs": [
        {
          "output_type": "stream",
          "text": [
            "Tiempo transcurrido: 0.1318941116 segundos.\n",
            "Tiempo transcurrido: 1.0019896030 segundos.\n",
            "Tiempo transcurrido: 3.6568565369 segundos.\n",
            "Tiempo transcurrido: 9.3231561184 segundos.\n",
            "Tiempo transcurrido: 18.5983426571 segundos.\n",
            "Tiempo transcurrido: 32.4201970100 segundos.\n",
            "Tiempo transcurrido: 52.4098000526 segundos.\n",
            "Tiempo transcurrido: 81.4956727028 segundos.\n",
            "Tiempo transcurrido: 113.9147901535 segundos.\n",
            "Tiempo transcurrido: 154.7635571957 segundos.\n"
          ],
          "name": "stdout"
        }
      ]
    }
  ]
}