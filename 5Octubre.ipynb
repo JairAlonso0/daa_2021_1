{
  "nbformat": 4,
  "nbformat_minor": 0,
  "metadata": {
    "colab": {
      "name": "5Octubre.ipynb",
      "provenance": [],
      "authorship_tag": "ABX9TyPWBJILi6y3eq3gOPOEaWOv",
      "include_colab_link": true
    },
    "kernelspec": {
      "name": "python3",
      "display_name": "Python 3"
    }
  },
  "cells": [
    {
      "cell_type": "markdown",
      "metadata": {
        "id": "view-in-github",
        "colab_type": "text"
      },
      "source": [
        "<a href=\"https://colab.research.google.com/github/JairAlonso0/daa_2021_1/blob/master/5Octubre.ipynb\" target=\"_parent\"><img src=\"https://colab.research.google.com/assets/colab-badge.svg\" alt=\"Open In Colab\"/></a>"
      ]
    },
    {
      "cell_type": "markdown",
      "metadata": {
        "id": "tb-dD780AKgC"
      },
      "source": [
        "# Estructura de datos Pila (Stack)\n",
        "- Last In First Out (LIFO)\n",
        "- Se pueden obtener e ingresar datos desde el tope\n",
        "- push para agregar\n",
        "- pop para sacar\n",
        "\n",
        "## Operaciones de las Pilas\n",
        "\n",
        "1. is_empty (regressa true o false)\n",
        "2. get_top (regrersa el elemento en el tope SIN SACARLO)\n",
        "3. pop (saca el elemento del tope y lo regresa)\n",
        "4. push (mete un elemento en el tope)\n",
        "5. get_length (regresa el número de elementos en la pila) "
      ]
    },
    {
      "cell_type": "code",
      "metadata": {
        "id": "RlTOVXnfCjgw"
      },
      "source": [
        "class Stack:\n",
        "\n",
        "  def _init_(self):\n",
        "    self._datos = []\n",
        "  \n",
        "  def is_empty(self):\n",
        "    return len(self._datos) == 0\n",
        "\n",
        "  def get_top(self):\n",
        "    return self._datos[-1]\n",
        "\n",
        "  def pop(self):\n",
        "    return self._datos.pop()\n",
        "\n",
        "  def push(self , valor):\n",
        "    self._datos.append(valor)\n",
        "\n",
        "  def get_length(self):\n",
        "    return len(self._datos)\n",
        "\n",
        "  def to_string(self):\n",
        "    print(\"|---------------|\")\n",
        "    for ele in self._datos[-1::-1]:\n",
        "      print(f\" {ele} \")   \n",
        "    print(\"|---------------|\")                                                                                             "
      ],
      "execution_count": 10,
      "outputs": []
    },
    {
      "cell_type": "code",
      "metadata": {
        "id": "qI5wUUW3FVzq",
        "outputId": "58157962-0be7-4093-8057-fd47ce8d7d50",
        "colab": {
          "base_uri": "https://localhost:8080/",
          "height": 350
        }
      },
      "source": [
        "pila1 = Stack()\n",
        "pila1.push(10)\n",
        "pila1.push(20)\n",
        "pila1.push(1)\n",
        "pila1.push(393)\n",
        "pila1.push(103)\n",
        "pila.to_string()\n",
        "\n",
        "sacado = pila1.pop()\n",
        "print(sacado)\n",
        "pila1.to_string()\n",
        "\n",
        "pila1.push(444)\n",
        "pila1.push(233)\n",
        "pila.to_string()\n",
        "\n",
        "print(f\"El elemento en el tope es: {pila1.get_top()} \")\n",
        "pila1.to_string()\n",
        "print(f\"La pila tiene {pila1.get_length()} elementos\")\n",
        "print(f\"¿'La pila esta vacía?{pila1.is_empty()}\")"
      ],
      "execution_count": 12,
      "outputs": [
        {
          "output_type": "error",
          "ename": "AttributeError",
          "evalue": "ignored",
          "traceback": [
            "\u001b[0;31m---------------------------------------------------------------------------\u001b[0m",
            "\u001b[0;31mAttributeError\u001b[0m                            Traceback (most recent call last)",
            "\u001b[0;32m<ipython-input-12-ee5c798ef78e>\u001b[0m in \u001b[0;36m<module>\u001b[0;34m()\u001b[0m\n\u001b[1;32m      1\u001b[0m \u001b[0mpila1\u001b[0m \u001b[0;34m=\u001b[0m \u001b[0mStack\u001b[0m\u001b[0;34m(\u001b[0m\u001b[0;34m)\u001b[0m\u001b[0;34m\u001b[0m\u001b[0;34m\u001b[0m\u001b[0m\n\u001b[0;32m----> 2\u001b[0;31m \u001b[0mpila1\u001b[0m\u001b[0;34m.\u001b[0m\u001b[0mpush\u001b[0m\u001b[0;34m(\u001b[0m\u001b[0;36m10\u001b[0m\u001b[0;34m)\u001b[0m\u001b[0;34m\u001b[0m\u001b[0;34m\u001b[0m\u001b[0m\n\u001b[0m\u001b[1;32m      3\u001b[0m \u001b[0mpila1\u001b[0m\u001b[0;34m.\u001b[0m\u001b[0mpush\u001b[0m\u001b[0;34m(\u001b[0m\u001b[0;36m20\u001b[0m\u001b[0;34m)\u001b[0m\u001b[0;34m\u001b[0m\u001b[0;34m\u001b[0m\u001b[0m\n\u001b[1;32m      4\u001b[0m \u001b[0mpila1\u001b[0m\u001b[0;34m.\u001b[0m\u001b[0mpush\u001b[0m\u001b[0;34m(\u001b[0m\u001b[0;36m1\u001b[0m\u001b[0;34m)\u001b[0m\u001b[0;34m\u001b[0m\u001b[0;34m\u001b[0m\u001b[0m\n\u001b[1;32m      5\u001b[0m \u001b[0mpila1\u001b[0m\u001b[0;34m.\u001b[0m\u001b[0mpush\u001b[0m\u001b[0;34m(\u001b[0m\u001b[0;36m393\u001b[0m\u001b[0;34m)\u001b[0m\u001b[0;34m\u001b[0m\u001b[0;34m\u001b[0m\u001b[0m\n",
            "\u001b[0;32m<ipython-input-10-d27715e38c17>\u001b[0m in \u001b[0;36mpush\u001b[0;34m(self, valor)\u001b[0m\n\u001b[1;32m     14\u001b[0m \u001b[0;34m\u001b[0m\u001b[0m\n\u001b[1;32m     15\u001b[0m   \u001b[0;32mdef\u001b[0m \u001b[0mpush\u001b[0m\u001b[0;34m(\u001b[0m\u001b[0mself\u001b[0m \u001b[0;34m,\u001b[0m \u001b[0mvalor\u001b[0m\u001b[0;34m)\u001b[0m\u001b[0;34m:\u001b[0m\u001b[0;34m\u001b[0m\u001b[0;34m\u001b[0m\u001b[0m\n\u001b[0;32m---> 16\u001b[0;31m     \u001b[0mself\u001b[0m\u001b[0;34m.\u001b[0m\u001b[0m_datos\u001b[0m\u001b[0;34m.\u001b[0m\u001b[0mappend\u001b[0m\u001b[0;34m(\u001b[0m\u001b[0mvalor\u001b[0m\u001b[0;34m)\u001b[0m\u001b[0;34m\u001b[0m\u001b[0;34m\u001b[0m\u001b[0m\n\u001b[0m\u001b[1;32m     17\u001b[0m \u001b[0;34m\u001b[0m\u001b[0m\n\u001b[1;32m     18\u001b[0m   \u001b[0;32mdef\u001b[0m \u001b[0mget_length\u001b[0m\u001b[0;34m(\u001b[0m\u001b[0mself\u001b[0m\u001b[0;34m)\u001b[0m\u001b[0;34m:\u001b[0m\u001b[0;34m\u001b[0m\u001b[0;34m\u001b[0m\u001b[0m\n",
            "\u001b[0;31mAttributeError\u001b[0m: 'Stack' object has no attribute '_datos'"
          ]
        }
      ]
    },
    {
      "cell_type": "markdown",
      "metadata": {
        "id": "PfQBPt8UJKER"
      },
      "source": [
        "# Ejemplo de aplicación de pilas\n",
        "\n",
        "x = 4 + 5 + 6 + 3\n",
        "x = 4 + (5 + 6) + 3\n",
        "x = 4 + (5 + 6) + 3\n",
        "x = 4 + 5 + 6) + 3\n",
        "x = (4 + (5 + 6) + 3)\n",
        "\n",
        "if(a == b){ System.out.println(b)\n",
        "if(a == b){ System out.println(b)}\n",
        "\n",
        "# reglas\n",
        "### '(' --> push('@')\n",
        "### ')' --> pop()\n",
        "Si al final del recorrido la pila esta vacía, entonces la cadena es correcta.\n",
        "Si en un pop desencadena en querer sacar un elemento de la pila vacía significa que la cadena no está balanceada.\n",
        "\n",
        "\n"
      ]
    },
    {
      "cell_type": "markdown",
      "metadata": {
        "id": "85ZqImRKNKtr"
      },
      "source": [
        "# Tarea\n",
        "Hcaer un programa que valide el balanceo de '()','[]', y '{}' en programas del lenguaje C y Java.\n",
        "Tomando como base el código de la clase."
      ]
    }
  ]
}