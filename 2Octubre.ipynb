{
  "nbformat": 4,
  "nbformat_minor": 0,
  "metadata": {
    "colab": {
      "name": "2Octubre.ipynb",
      "provenance": [],
      "toc_visible": true,
      "authorship_tag": "ABX9TyNT4gH3X6mUADfsUj+BSAQx",
      "include_colab_link": true
    },
    "kernelspec": {
      "name": "python3",
      "display_name": "Python 3"
    }
  },
  "cells": [
    {
      "cell_type": "markdown",
      "metadata": {
        "id": "view-in-github",
        "colab_type": "text"
      },
      "source": [
        "<a href=\"https://colab.research.google.com/github/JairAlonso0/daa_2021_1/blob/master/2Octubre.ipynb\" target=\"_parent\"><img src=\"https://colab.research.google.com/assets/colab-badge.svg\" alt=\"Open In Colab\"/></a>"
      ]
    },
    {
      "cell_type": "markdown",
      "metadata": {
        "id": "OjP0APeuipW2"
      },
      "source": [
        "## Meteorología en México\n",
        "En Sistema meteorológico nacional lleva el registro de la lluvias desde el año 1985 y lo pone a disposición de la población por medio de la pagina datos.gob.mx.\n",
        "\n",
        "En la siguiente liga se encuentran 2  archivos separados por comas CSV correspondientes a los registros de lluvias\n",
        "mensuales y anuales de los años 2017 y 2018. En los columnas se encuentran 13,  correspondientes al promedio mensual y el promedio anual.\n",
        "En los renglones se encuentran 33, correspondientes a cada uno de los 32 estados y a nivel nacional.\n",
        "\n",
        "https://drive.google.com/file/d/1lamkxgq2AsXRu81Y4JTNXLVld4og7nxt/view?usp=sharing\n",
        "\n",
        "\n",
        "## Planteamiento del problema\n",
        "Diseñar un algoritmo y programarlo para que:\n",
        "1. Solicite por teclado el año, el estado y el mes, en base a esa información:\n",
        "- Muestre en pantalla el promedio de ese mes en ese estado en el año seleccionado.\n",
        "- Muestre en pantalla el promedio anual del  estado seleccionado.\n",
        "- Muestre la suma de los 12 meses de ese estado en el año seleccionado.\n",
        "2. Busque el mes que mas llovió en todos los estados durante esos dos años. Imprimir año, estado y mes.\n",
        "3. Busque el mes que menos llovió en los dos. Imprimir año, estado y mes."
      ]
    },
    {
      "cell_type": "code",
      "metadata": {
        "id": "uZi6TbIDijAW"
      },
      "source": [
        "import panda as pd\n",
        "from io import StringIO\n",
        "import numpy as np\n",
        "\n",
        "df = pd.read_csv(str(año)+ path + '2018Precip.csv', header = None, skiprows = 1, sep = ';', nrows = 35, encoding='latin')\n",
        "meses = ['ENE','FEB','MAR','ABR','MAY','JUN','JUL','AGO','SEP','OCT','NOV','DIC']\n",
        "entidad = ['AGUASCALIENTES','BAJA CALIFORNIA','BAJA CALIFORNIA SUR','CAMPECHE','COAHUILA','COLIMA','CHIAPAS','CHIHUAHUA','DISTRITO FEDERAL','DURANGO','GUANAJATO','GUERRERO','HIDALGO','JALISCO','ESTADO DE MƒXICO','MICHOACçN','MORELOS','NAYARIT','NUEVO LEîN','OAXACA','PUEBLA','QUERƒTARO','QUINTANA ROO','SAN LUIS POTOSê','SINALOA','SONORA','TABASCO','TAMAULIPAS','TLAXCALA','VERACRUZ','YUCATçN','ZACATECAS','NACIONAL']\n",
        "index_col = ['ENE','FEB','MAR','ABR','MAY','JUN','JUL','AGO','SEP','OCT','NOV','DIC']\n",
        "index_col = ['AGUASCALIENTES','BAJA CALIFORNIA','BAJA CALIFORNIA SUR','CAMPECHE','COAHUILA','COLIMA','CHIAPAS','CHIHUAHUA','DISTRITO FEDERAL','DURANGO','GUANAJATO','GUERRERO','HIDALGO','JALISCO','ESTADO DE MƒXICO','MICHOACçN','MORELOS','NAYARIT','NUEVO LEîN','OAXACA','PUEBLA','QUERƒTARO','QUINTANA ROO','SAN LUIS POTOSê','SINALOA','SONORA','TABASCO','TAMAULIPAS','TLAXCALA','VERACRUZ','YUCATçN','ZACATECAS','NACIONAL']\n",
        "\n",
        "df. pd.DataFrame()\n",
        "for pedazo in pd.read_csv(str(año) + path + '2018Precip.csv', sep = ';', chunksize = 1):\n",
        "    df = pd.concat([df,pedazo[pedazo[pedazo['month'].isin(meses)]])\n",
        "    \n",
        "df.month.value_counts()\n",
        "mean_df = df['grade'].mean()"
      ],
      "execution_count": null,
      "outputs": []
    }
  ]
}