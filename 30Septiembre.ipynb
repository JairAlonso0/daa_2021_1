{
  "nbformat": 4,
  "nbformat_minor": 0,
  "metadata": {
    "colab": {
      "name": "30Septiembre.ipynb",
      "provenance": [],
      "collapsed_sections": [],
      "toc_visible": true,
      "authorship_tag": "ABX9TyMipXm9y4kbpdnW4E19+jbX",
      "include_colab_link": true
    },
    "kernelspec": {
      "name": "python3",
      "display_name": "Python 3"
    }
  },
  "cells": [
    {
      "cell_type": "markdown",
      "metadata": {
        "id": "view-in-github",
        "colab_type": "text"
      },
      "source": [
        "<a href=\"https://colab.research.google.com/github/JairAlonso0/daa_2021_1/blob/master/30Septiembre.ipynb\" target=\"_parent\"><img src=\"https://colab.research.google.com/assets/colab-badge.svg\" alt=\"Open In Colab\"/></a>"
      ]
    },
    {
      "cell_type": "code",
      "metadata": {
        "id": "GYMHNE3mP85S"
      },
      "source": [
        ""
      ],
      "execution_count": null,
      "outputs": []
    },
    {
      "cell_type": "markdown",
      "metadata": {
        "id": "I2FV4wEXQVK4"
      },
      "source": [
        "##Palindromos\n",
        "Es una palabra que se lee de igual forma de un sentido y sentido inverso ejemplo:\n",
        "1. sugus\n",
        "2. oso\n",
        "3. reconocer\n",
        "4. 10101\n",
        "5. 10:01 etc.\n",
        "\n",
        "##Planteamiento del problema\n",
        "Se desean encontrar todos los problemas que existen en la franja horaria de un dia completo tomando como horario inicial las 00.00 y como horario final las 23:59 horas.\n",
        "El algoritmo debe mostrar en pantalla todos los palindromos existentes en ese rango, al final debe mostrar el conteo del total de palindromos existentes."
      ]
    },
    {
      "cell_type": "code",
      "metadata": {
        "id": "Zg1m98IFSC7I"
      },
      "source": [
        "# Solución\n",
        "horaD, hora, min, seg = 0, 0, 0, 0\n",
        "contador = 0\n",
        "for i in range(n + 1, sys.maxsize):\n",
        "  if str[i] == str[i][::-1]:\n",
        "    return 1\n",
        "for j in range()\n",
        "if horaD == 2:\n",
        "    hora == 3\n",
        "    contador+=1\n",
        "\n",
        "if hora == 9;\n",
        "    horaD += 1\n",
        "    contador += 1\n",
        "\n",
        "if min == 5;\n",
        "    seg = 9\n",
        "    contador+=1\n",
        "\n",
        "\n",
        "if seg == 9;\n",
        "    min = 5\n",
        "    hora += 1\n",
        "    horaD += 1\n",
        "if hora == min:\n",
        "\n",
        "if horaD == seg:\n"
      ],
      "execution_count": 5,
      "outputs": []
    }
  ]
}