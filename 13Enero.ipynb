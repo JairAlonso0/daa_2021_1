{
  "nbformat": 4,
  "nbformat_minor": 0,
  "metadata": {
    "colab": {
      "name": "13Enero.ipynb",
      "provenance": [],
      "authorship_tag": "ABX9TyMdokECMFiH+k4VDy6Ji8xd",
      "include_colab_link": true
    },
    "kernelspec": {
      "name": "python3",
      "display_name": "Python 3"
    }
  },
  "cells": [
    {
      "cell_type": "markdown",
      "metadata": {
        "id": "view-in-github",
        "colab_type": "text"
      },
      "source": [
        "<a href=\"https://colab.research.google.com/github/JairAlonso0/daa_2021_1/blob/master/13Enero.ipynb\" target=\"_parent\"><img src=\"https://colab.research.google.com/assets/colab-badge.svg\" alt=\"Open In Colab\"/></a>"
      ]
    },
    {
      "cell_type": "code",
      "metadata": {
        "id": "2y7MoXN7ZTzE"
      },
      "source": [
        "class NodoArbol:\r\n",
        "    def __init__( self , dato ,  hijo_izq=None , hijo_der=None):\r\n",
        "        self.dato = dato\r\n",
        "        self.left = hijo_izq\r\n",
        "        self.right = hijo_der"
      ],
      "execution_count": 1,
      "outputs": []
    },
    {
      "cell_type": "code",
      "metadata": {
        "colab": {
          "base_uri": "https://localhost:8080/",
          "height": 129
        },
        "id": "OYwIwkroS2Sd",
        "outputId": "6db905ee-0805-4fdd-a1b2-31023f00989b"
      },
      "source": [
        "class BinarySearchTree:\r\n",
        "    def __init__( self ):\r\n",
        "        self.__root = None\r\n",
        "\r\n",
        "    def insert( self, value ):\r\n",
        "        if self.__root == None:\r\n",
        "            self.__root = NodoArbol(value,None,None)\r\n",
        "        else:\r\n",
        "            # preguntar si value es menor que root, de serl el caso\r\n",
        "            # insertar a la izq, PERO... Puede ser el caso que el\r\n",
        "            # sub árbol izq ya tenga muchos elementos\r\n",
        "            self.__insert_nodo__( self.__root , value)\r\n",
        "\r\n",
        "    def __insert_nodo__( self, nodo , value ):\r\n",
        "        if nodo.data == value:\r\n",
        "            pass\r\n",
        "        elif value < nodo.data: # true va a la IZQ\r\n",
        "            if nodo.left == None: # si hay espacio en la izq, \r\n",
        "                nodo.left = NodoArbol(value, None,None)\r\n",
        "            else:\r\n",
        "                self.__insert_nodo__( nodo.left , value )\r\n",
        "        else:\r\n",
        "            if noodo.right == None:\r\n",
        "                nodo.right = NodoArbol(value , None, None)\r\n",
        "            else:\r\n",
        "                self.__insert_nodo__( nodo.right, value)\r\n",
        "            \r\n",
        "        "
      ],
      "execution_count": 3,
      "outputs": [
        {
          "output_type": "error",
          "ename": "IndentationError",
          "evalue": "ignored",
          "traceback": [
            "\u001b[0;36m  File \u001b[0;32m\"<ipython-input-3-666dbd3103fe>\"\u001b[0;36m, line \u001b[0;32m14\u001b[0m\n\u001b[0;31m    def __insert_nodo__( self, nodo , value ):\u001b[0m\n\u001b[0m    ^\u001b[0m\n\u001b[0;31mIndentationError\u001b[0m\u001b[0;31m:\u001b[0m expected an indented block\n"
          ]
        }
      ]
    }
  ]
}