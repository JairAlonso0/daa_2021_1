{
  "nbformat": 4,
  "nbformat_minor": 0,
  "metadata": {
    "colab": {
      "name": "T7.ipynb",
      "provenance": [],
      "collapsed_sections": [],
      "authorship_tag": "ABX9TyPVC6IrBYrcyDtKqKbF5z4U",
      "include_colab_link": true
    },
    "kernelspec": {
      "name": "python3",
      "display_name": "Python 3"
    }
  },
  "cells": [
    {
      "cell_type": "markdown",
      "metadata": {
        "id": "view-in-github",
        "colab_type": "text"
      },
      "source": [
        "<a href=\"https://colab.research.google.com/github/JairAlonso0/daa_2021_1/blob/master/T7.ipynb\" target=\"_parent\"><img src=\"https://colab.research.google.com/assets/colab-badge.svg\" alt=\"Open In Colab\"/></a>"
      ]
    },
    {
      "cell_type": "code",
      "metadata": {
        "colab": {
          "base_uri": "https://localhost:8080/"
        },
        "id": "XlbE7hncbLx-",
        "outputId": "e27d17fb-9a91-4a8f-aee5-dd2f64d10f82"
      },
      "source": [
        "def sumaR(listaNum):\n",
        "    suma = 0\n",
        "    for i in listaNum:\n",
        "        suma = suma + i\n",
        "    return suma\n",
        "sumaR([1,3,5,7,9])"
      ],
      "execution_count": null,
      "outputs": [
        {
          "output_type": "execute_result",
          "data": {
            "text/plain": [
              "25"
            ]
          },
          "metadata": {
            "tags": []
          },
          "execution_count": 8
        }
      ]
    },
    {
      "cell_type": "code",
      "metadata": {
        "colab": {
          "base_uri": "https://localhost:8080/"
        },
        "id": "lAurfV4VZsct",
        "outputId": "21da6c43-a7bb-4e24-ae27-5c93a9033990"
      },
      "source": [
        "def factorial(num):\n",
        "    print(\"Valor inicial: \", num)\n",
        "    if num > 1:\n",
        "        num = num * factorial(num - 1)\n",
        "    print (\"Valor final: \", num)\n",
        "    return num\n",
        "factorial(5)"
      ],
      "execution_count": null,
      "outputs": [
        {
          "output_type": "stream",
          "text": [
            "Valor inicial:  5\n",
            "Valor inicial:  4\n",
            "Valor inicial:  3\n",
            "Valor inicial:  2\n",
            "Valor inicial:  1\n",
            "Valor final:  1\n",
            "Valor final:  2\n",
            "Valor final:  6\n",
            "Valor final:  24\n",
            "Valor final:  120\n"
          ],
          "name": "stdout"
        },
        {
          "output_type": "execute_result",
          "data": {
            "text/plain": [
              "120"
            ]
          },
          "metadata": {
            "tags": []
          },
          "execution_count": 4
        }
      ]
    },
    {
      "cell_type": "code",
      "metadata": {
        "id": "DjBPdhGxasLe"
      },
      "source": [
        ""
      ],
      "execution_count": null,
      "outputs": []
    }
  ]
}