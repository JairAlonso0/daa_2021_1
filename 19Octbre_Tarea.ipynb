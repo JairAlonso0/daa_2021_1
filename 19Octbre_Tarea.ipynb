{
  "nbformat": 4,
  "nbformat_minor": 0,
  "metadata": {
    "colab": {
      "name": "19Octbre_Tarea.ipynb",
      "provenance": [],
      "authorship_tag": "ABX9TyNLV8BOAaQxzLpoplwckDXe",
      "include_colab_link": true
    },
    "kernelspec": {
      "name": "python3",
      "display_name": "Python 3"
    }
  },
  "cells": [
    {
      "cell_type": "markdown",
      "metadata": {
        "id": "view-in-github",
        "colab_type": "text"
      },
      "source": [
        "<a href=\"https://colab.research.google.com/github/JairAlonso0/daa_2021_1/blob/master/19Octbre_Tarea.ipynb\" target=\"_parent\"><img src=\"https://colab.research.google.com/assets/colab-badge.svg\" alt=\"Open In Colab\"/></a>"
      ]
    },
    {
      "cell_type": "code",
      "metadata": {
        "id": "mJeSlfTzgk0k"
      },
      "source": [
        "def ejemplo4(n):\n",
        "  count = 0\n",
        "  i = n\n",
        "  print(count)\n",
        "  while i >= 1:\n",
        "    count + 1\n",
        "    i = i // 2\n",
        "    print(count)\n",
        "  basura = 3 + 2\n",
        "  return count\n",
        "  "
      ],
      "execution_count": 5,
      "outputs": []
    }
  ]
}