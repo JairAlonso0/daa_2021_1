{
  "nbformat": 4,
  "nbformat_minor": 0,
  "metadata": {
    "colab": {
      "name": "2Diciembre.ipynb",
      "provenance": [],
      "authorship_tag": "ABX9TyO2NuPg0wY0VACujz78fKKH",
      "include_colab_link": true
    },
    "kernelspec": {
      "name": "python3",
      "display_name": "Python 3"
    }
  },
  "cells": [
    {
      "cell_type": "markdown",
      "metadata": {
        "id": "view-in-github",
        "colab_type": "text"
      },
      "source": [
        "<a href=\"https://colab.research.google.com/github/JairAlonso0/daa_2021_1/blob/master/2Diciembre.ipynb\" target=\"_parent\"><img src=\"https://colab.research.google.com/assets/colab-badge.svg\" alt=\"Open In Colab\"/></a>"
      ]
    },
    {
      "cell_type": "code",
      "metadata": {
        "id": "0sM7gncF_nXw"
      },
      "source": [
        "def fnRecInfinita():\n",
        "    print(\"Hola\")\n",
        "    fnRecInfinita()"
      ],
      "execution_count": null,
      "outputs": []
    },
    {
      "cell_type": "code",
      "metadata": {
        "id": "T84sbo9E_1U8"
      },
      "source": [
        "fnRecInfinita()"
      ],
      "execution_count": null,
      "outputs": []
    },
    {
      "cell_type": "code",
      "metadata": {
        "colab": {
          "base_uri": "https://localhost:8080/"
        },
        "id": "oAGYtvHqAQW7",
        "outputId": "8a1a0d01-8db1-48c1-cb02-d08a80f8ce81"
      },
      "source": [
        "def fnRec( x ):\n",
        "    if x == 0:\n",
        "        print(\"Stop\")\n",
        "    else:\n",
        "        fnRec( x - 1 )\n",
        "        print( x )\n",
        "def main():\n",
        "    print(\"Inicio del programa\")\n",
        "    fnRec( 5 )\n",
        "    print(\"Fin del programa\")\n",
        "\n",
        "main()"
      ],
      "execution_count": 2,
      "outputs": [
        {
          "output_type": "stream",
          "text": [
            "Inicio del programa\n",
            "Stop\n",
            "1\n",
            "2\n",
            "3\n",
            "4\n",
            "5\n",
            "Fin del programa\n"
          ],
          "name": "stdout"
        }
      ]
    },
    {
      "cell_type": "code",
      "metadata": {
        "colab": {
          "base_uri": "https://localhost:8080/"
        },
        "id": "aRXgsiF8BePE",
        "outputId": "1ebe49cb-50a5-4ad2-8155-d22baf6350b8"
      },
      "source": [
        "def printRev( x ):\n",
        "    if x == 0:\n",
        "        print(\"Stop\")\n",
        "    if x > 0:\n",
        "        print( x )\n",
        "        printRev( x - 1)\n",
        "print(\"Inicio del programa\")\n",
        "printRev( 3 )\n",
        "print(\"Fin del programa\")"
      ],
      "execution_count": 9,
      "outputs": [
        {
          "output_type": "stream",
          "text": [
            "Inicio del programa\n",
            "3\n",
            "2\n",
            "1\n",
            "Stop\n",
            "Fin del programa\n"
          ],
          "name": "stdout"
        }
      ]
    },
    {
      "cell_type": "code",
      "metadata": {
        "colab": {
          "base_uri": "https://localhost:8080/"
        },
        "id": "oNkvxs1fEU01",
        "outputId": "26f94d58-2e1f-4942-b8b3-515eb07dad65"
      },
      "source": [
        "def printRev( x ):\n",
        "    if x > 0:\n",
        "        printRev( x - 1)\n",
        "        print( x )\n",
        "\n",
        "printRev( 3 )"
      ],
      "execution_count": 5,
      "outputs": [
        {
          "output_type": "stream",
          "text": [
            "1\n",
            "2\n",
            "3\n"
          ],
          "name": "stdout"
        }
      ]
    },
    {
      "cell_type": "code",
      "metadata": {
        "colab": {
          "base_uri": "https://localhost:8080/"
        },
        "id": "SO2Ia6wzJrx5",
        "outputId": "3248c098-5216-439a-a856-2b233f12df4d"
      },
      "source": [
        "def fibonacci( n ):\n",
        "    if n == 1 or n == 0:\n",
        "        return n\n",
        "    else:\n",
        "        return (fibonacci(n-1) + fibonacci(n-2) )\n",
        "\n",
        "print(fibonacci(8))"
      ],
      "execution_count": 10,
      "outputs": [
        {
          "output_type": "stream",
          "text": [
            "21\n"
          ],
          "name": "stdout"
        }
      ]
    }
  ]
}